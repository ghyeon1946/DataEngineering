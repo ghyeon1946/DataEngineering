{
 "cells": [
  {
   "cell_type": "markdown",
   "id": "b2e2c9a7",
   "metadata": {
    "papermill": {
     "duration": 0.062756,
     "end_time": "2022-06-11T06:24:26.511481",
     "exception": false,
     "start_time": "2022-06-11T06:24:26.448725",
     "status": "completed"
    },
    "tags": []
   },
   "source": [
    "## ✔️ 필요한 모듈 Install"
   ]
  },
  {
   "cell_type": "code",
   "execution_count": 1,
   "id": "d7083203",
   "metadata": {
    "execution": {
     "iopub.execute_input": "2022-06-11T06:24:26.644813Z",
     "iopub.status.busy": "2022-06-11T06:24:26.643849Z",
     "iopub.status.idle": "2022-06-11T06:24:48.162968Z",
     "shell.execute_reply": "2022-06-11T06:24:48.162079Z",
     "shell.execute_reply.started": "2022-06-07T03:17:37.743969Z"
    },
    "papermill": {
     "duration": 21.588229,
     "end_time": "2022-06-11T06:24:48.163189",
     "exception": false,
     "start_time": "2022-06-11T06:24:26.574960",
     "status": "completed"
    },
    "tags": []
   },
   "outputs": [
    {
     "name": "stdout",
     "output_type": "stream",
     "text": [
      "Collecting timm\r\n",
      "  Downloading timm-0.5.4-py3-none-any.whl (431 kB)\r\n",
      "     |████████████████████████████████| 431 kB 891 kB/s            \r\n",
      "\u001b[?25hRequirement already satisfied: torch>=1.4 in /opt/conda/lib/python3.7/site-packages (from timm) (1.9.1+cpu)\r\n",
      "Requirement already satisfied: torchvision in /opt/conda/lib/python3.7/site-packages (from timm) (0.10.1+cpu)\r\n",
      "Requirement already satisfied: typing-extensions in /opt/conda/lib/python3.7/site-packages (from torch>=1.4->timm) (4.1.1)\r\n",
      "Requirement already satisfied: pillow>=5.3.0 in /opt/conda/lib/python3.7/site-packages (from torchvision->timm) (8.2.0)\r\n",
      "Requirement already satisfied: numpy in /opt/conda/lib/python3.7/site-packages (from torchvision->timm) (1.20.3)\r\n",
      "Installing collected packages: timm\r\n",
      "Successfully installed timm-0.5.4\r\n",
      "\u001b[33mWARNING: Running pip as the 'root' user can result in broken permissions and conflicting behaviour with the system package manager. It is recommended to use a virtual environment instead: https://pip.pypa.io/warnings/venv\u001b[0m\r\n",
      "Requirement already satisfied: torchmetrics in /opt/conda/lib/python3.7/site-packages (0.6.2)\r\n",
      "Requirement already satisfied: numpy>=1.17.2 in /opt/conda/lib/python3.7/site-packages (from torchmetrics) (1.20.3)\r\n",
      "Requirement already satisfied: torch>=1.3.1 in /opt/conda/lib/python3.7/site-packages (from torchmetrics) (1.9.1+cpu)\r\n",
      "Requirement already satisfied: packaging in /opt/conda/lib/python3.7/site-packages (from torchmetrics) (21.3)\r\n",
      "Requirement already satisfied: typing-extensions in /opt/conda/lib/python3.7/site-packages (from torch>=1.3.1->torchmetrics) (4.1.1)\r\n",
      "Requirement already satisfied: pyparsing!=3.0.5,>=2.0.2 in /opt/conda/lib/python3.7/site-packages (from packaging->torchmetrics) (3.0.6)\r\n",
      "\u001b[33mWARNING: Running pip as the 'root' user can result in broken permissions and conflicting behaviour with the system package manager. It is recommended to use a virtual environment instead: https://pip.pypa.io/warnings/venv\u001b[0m\r\n"
     ]
    }
   ],
   "source": [
    "# !pip install torch==1.10.1+cu111 torchvision==0.11.2+cu111 torchaudio==0.10.1 -f https://download.pytorch.org/whl/torch_stable.html\n",
    "!pip install timm # install pytorch image models\n",
    "!pip install torchmetrics"
   ]
  },
  {
   "cell_type": "markdown",
   "id": "51d94010",
   "metadata": {
    "papermill": {
     "duration": 0.064734,
     "end_time": "2022-06-11T06:24:48.295114",
     "exception": false,
     "start_time": "2022-06-11T06:24:48.230380",
     "status": "completed"
    },
    "tags": []
   },
   "source": [
    "## ✔️ 필요한 Libray Import"
   ]
  },
  {
   "cell_type": "code",
   "execution_count": 2,
   "id": "e396f04d",
   "metadata": {
    "_cell_guid": "b1076dfc-b9ad-4769-8c92-a6c4dae69d19",
    "_uuid": "8f2839f25d086af736a60e9eeb907d3b93b6e0e5",
    "execution": {
     "iopub.execute_input": "2022-06-11T06:24:48.434031Z",
     "iopub.status.busy": "2022-06-11T06:24:48.433285Z",
     "iopub.status.idle": "2022-06-11T06:24:55.071669Z",
     "shell.execute_reply": "2022-06-11T06:24:55.072195Z",
     "shell.execute_reply.started": "2022-06-07T03:17:56.906557Z"
    },
    "papermill": {
     "duration": 6.712527,
     "end_time": "2022-06-11T06:24:55.072406",
     "exception": false,
     "start_time": "2022-06-11T06:24:48.359879",
     "status": "completed"
    },
    "tags": []
   },
   "outputs": [],
   "source": [
    "import torch\n",
    "import os\n",
    "import pandas as pd\n",
    "import numpy as np\n",
    "import random \n",
    "\n",
    "import albumentations as A\n",
    "import cv2\n",
    "import matplotlib.pyplot as plt\n",
    "from tqdm import tqdm\n",
    "from sklearn import preprocessing\n",
    "from sklearn.model_selection import StratifiedKFold\n",
    "import timm\n",
    "\n",
    "import torchvision\n",
    "from torch.utils.data import Dataset, DataLoader\n",
    "from torchvision import transforms\n",
    "import torchvision.models as models\n",
    "import torch.nn.functional as F\n",
    "from torch import nn\n",
    "import torchmetrics \n",
    "from torch.nn.modules.loss import _Loss\n",
    "from  torch.cuda.amp import autocast, GradScaler"
   ]
  },
  {
   "cell_type": "markdown",
   "id": "71a45c6e",
   "metadata": {
    "papermill": {
     "duration": 0.066433,
     "end_time": "2022-06-11T06:24:55.206279",
     "exception": false,
     "start_time": "2022-06-11T06:24:55.139846",
     "status": "completed"
    },
    "tags": []
   },
   "source": [
    "## ✔️ Model Configure\n",
    "### ➿ 사용 모델 - efficientnet_b3\n",
    "-----\n",
    "* **Train batch 사이즈 - 8**\n",
    "* **validation batch 사이즈 - 32**\n",
    "* **사용 모델 - efficientnet_b3**\n",
    "* **Learning rate - 3e-5**\n",
    "* **Epoch - 20**"
   ]
  },
  {
   "cell_type": "code",
   "execution_count": 3,
   "id": "71c104f0",
   "metadata": {
    "execution": {
     "iopub.execute_input": "2022-06-11T06:24:55.352825Z",
     "iopub.status.busy": "2022-06-11T06:24:55.347009Z",
     "iopub.status.idle": "2022-06-11T06:24:55.357674Z",
     "shell.execute_reply": "2022-06-11T06:24:55.358222Z",
     "shell.execute_reply.started": "2022-06-07T04:17:15.027713Z"
    },
    "papermill": {
     "duration": 0.083705,
     "end_time": "2022-06-11T06:24:55.358422",
     "exception": false,
     "start_time": "2022-06-11T06:24:55.274717",
     "status": "completed"
    },
    "tags": []
   },
   "outputs": [],
   "source": [
    "class GlobalConstantsConfigure():\n",
    "    def __init__(self):\n",
    "        self.continue_training = True\n",
    "        self.last_model = '../input/sorghum-100-cultivar-identification/resnext50d_32x4d_60_last.pt' \n",
    "        self.num_epochs_done = 40\n",
    "        self.seed = 127 # 107\n",
    "        self.fold = 1\n",
    "        self.num_folds = 4\n",
    "        self.num_classes = 100\n",
    "        self.biggest_loss = 999\n",
    "        self.training_size_rate = 0.8\n",
    "        self.training_dir = '../input/sorghum-id-fgvc-9/train_images'\n",
    "        self.model_name = 'efficientnet_b3'\n",
    "        self.model_path = './rexnet_150.pt'\n",
    "        self.image_size = 512\n",
    "        self.batch_size = 8\n",
    "        self.val_batch_size = 32\n",
    "        self.lr = 3e-5 # 3e-5\n",
    "        self.num_epochs = 1\n",
    "        self.steps_per_decay = 5\n",
    "        self.device = torch.device('cuda') if torch.cuda.is_available() else torch.device('cpu')\n",
    "        self.num_workers = 1  # if torch.cuda.is_available() else 4\n",
    "        \n",
    "gcc = GlobalConstantsConfigure()"
   ]
  },
  {
   "cell_type": "code",
   "execution_count": 4,
   "id": "f367e5b7",
   "metadata": {
    "execution": {
     "iopub.execute_input": "2022-06-11T06:24:55.505452Z",
     "iopub.status.busy": "2022-06-11T06:24:55.504685Z",
     "iopub.status.idle": "2022-06-11T06:24:55.510907Z",
     "shell.execute_reply": "2022-06-11T06:24:55.511528Z",
     "shell.execute_reply.started": "2022-06-07T04:17:16.985828Z"
    },
    "papermill": {
     "duration": 0.083139,
     "end_time": "2022-06-11T06:24:55.511746",
     "exception": false,
     "start_time": "2022-06-11T06:24:55.428607",
     "status": "completed"
    },
    "tags": []
   },
   "outputs": [],
   "source": [
    "def set_seed(seed) : \n",
    "    os.environ['PYTHONHASHSEED'] = str(seed)\n",
    "    random.seed(seed)\n",
    "    np.random.seed(seed)\n",
    "    torch.manual_seed(seed)\n",
    "    torch.cuda.manual_seed(seed)\n",
    "    torch.backends.cudnn.deterministic = True\n",
    "    torch.backends.cudnn.benchmark = False\n",
    "    \n",
    "set_seed(gcc.seed)"
   ]
  },
  {
   "cell_type": "markdown",
   "id": "ad2811b2",
   "metadata": {
    "papermill": {
     "duration": 0.070744,
     "end_time": "2022-06-11T06:24:55.650509",
     "exception": false,
     "start_time": "2022-06-11T06:24:55.579765",
     "status": "completed"
    },
    "tags": []
   },
   "source": [
    "### ✔️ Train DataSet 확인 & Nan 값 제거"
   ]
  },
  {
   "cell_type": "code",
   "execution_count": 5,
   "id": "2e90a436",
   "metadata": {
    "execution": {
     "iopub.execute_input": "2022-06-11T06:24:55.787192Z",
     "iopub.status.busy": "2022-06-11T06:24:55.786502Z",
     "iopub.status.idle": "2022-06-11T06:24:55.870527Z",
     "shell.execute_reply": "2022-06-11T06:24:55.871093Z",
     "shell.execute_reply.started": "2022-06-07T04:17:20.074802Z"
    },
    "papermill": {
     "duration": 0.152589,
     "end_time": "2022-06-11T06:24:55.871324",
     "exception": false,
     "start_time": "2022-06-11T06:24:55.718735",
     "status": "completed"
    },
    "tags": []
   },
   "outputs": [
    {
     "name": "stdout",
     "output_type": "stream",
     "text": [
      "22194\n",
      "22193\n"
     ]
    },
    {
     "data": {
      "text/html": [
       "<div>\n",
       "<style scoped>\n",
       "    .dataframe tbody tr th:only-of-type {\n",
       "        vertical-align: middle;\n",
       "    }\n",
       "\n",
       "    .dataframe tbody tr th {\n",
       "        vertical-align: top;\n",
       "    }\n",
       "\n",
       "    .dataframe thead th {\n",
       "        text-align: right;\n",
       "    }\n",
       "</style>\n",
       "<table border=\"1\" class=\"dataframe\">\n",
       "  <thead>\n",
       "    <tr style=\"text-align: right;\">\n",
       "      <th></th>\n",
       "      <th>image</th>\n",
       "      <th>cultivar</th>\n",
       "    </tr>\n",
       "  </thead>\n",
       "  <tbody>\n",
       "    <tr>\n",
       "      <th>0</th>\n",
       "      <td>2017-06-16__12-24-20-930.png</td>\n",
       "      <td>PI_257599</td>\n",
       "    </tr>\n",
       "    <tr>\n",
       "      <th>1</th>\n",
       "      <td>2017-06-02__16-48-57-866.png</td>\n",
       "      <td>PI_154987</td>\n",
       "    </tr>\n",
       "    <tr>\n",
       "      <th>2</th>\n",
       "      <td>2017-06-12__13-18-07-707.png</td>\n",
       "      <td>PI_92270</td>\n",
       "    </tr>\n",
       "    <tr>\n",
       "      <th>3</th>\n",
       "      <td>2017-06-22__13-18-06-841.png</td>\n",
       "      <td>PI_152651</td>\n",
       "    </tr>\n",
       "    <tr>\n",
       "      <th>4</th>\n",
       "      <td>2017-06-26__12-56-48-642.png</td>\n",
       "      <td>PI_176766</td>\n",
       "    </tr>\n",
       "  </tbody>\n",
       "</table>\n",
       "</div>"
      ],
      "text/plain": [
       "                          image   cultivar\n",
       "0  2017-06-16__12-24-20-930.png  PI_257599\n",
       "1  2017-06-02__16-48-57-866.png  PI_154987\n",
       "2  2017-06-12__13-18-07-707.png   PI_92270\n",
       "3  2017-06-22__13-18-06-841.png  PI_152651\n",
       "4  2017-06-26__12-56-48-642.png  PI_176766"
      ]
     },
     "execution_count": 5,
     "metadata": {},
     "output_type": "execute_result"
    }
   ],
   "source": [
    "df_all = pd.read_csv('../input/sorghum-id-fgvc-9/train_cultivar_mapping.csv')\n",
    "print(len(df_all))\n",
    "\n",
    "df_all.dropna(inplace=True)\n",
    "print(len(df_all))\n",
    "\n",
    "df_all.head()"
   ]
  },
  {
   "cell_type": "markdown",
   "id": "28e3bfcd",
   "metadata": {
    "papermill": {
     "duration": 0.064516,
     "end_time": "2022-06-11T06:24:56.002075",
     "exception": false,
     "start_time": "2022-06-11T06:24:55.937559",
     "status": "completed"
    },
    "tags": []
   },
   "source": [
    "## ✔️ Train DataSet 전처리 & 모델 입력값 수정"
   ]
  },
  {
   "cell_type": "code",
   "execution_count": 6,
   "id": "a236992c",
   "metadata": {
    "execution": {
     "iopub.execute_input": "2022-06-11T06:24:56.138492Z",
     "iopub.status.busy": "2022-06-11T06:24:56.137814Z",
     "iopub.status.idle": "2022-06-11T06:24:56.151804Z",
     "shell.execute_reply": "2022-06-11T06:24:56.151111Z",
     "shell.execute_reply.started": "2022-06-07T04:17:22.351933Z"
    },
    "papermill": {
     "duration": 0.082831,
     "end_time": "2022-06-11T06:24:56.151950",
     "exception": false,
     "start_time": "2022-06-11T06:24:56.069119",
     "status": "completed"
    },
    "tags": []
   },
   "outputs": [],
   "source": [
    "### class 개수 확인 & 유일한 값 추출\n",
    "unique_cultivars = list(df_all[\"cultivar\"].unique())"
   ]
  },
  {
   "cell_type": "code",
   "execution_count": 7,
   "id": "b4d33dce",
   "metadata": {
    "execution": {
     "iopub.execute_input": "2022-06-11T06:24:56.296849Z",
     "iopub.status.busy": "2022-06-11T06:24:56.295823Z",
     "iopub.status.idle": "2022-06-11T06:25:31.698367Z",
     "shell.execute_reply": "2022-06-11T06:25:31.698881Z",
     "shell.execute_reply.started": "2022-06-07T04:17:23.850179Z"
    },
    "papermill": {
     "duration": 35.482184,
     "end_time": "2022-06-11T06:25:31.699058",
     "exception": false,
     "start_time": "2022-06-11T06:24:56.216874",
     "status": "completed"
    },
    "tags": []
   },
   "outputs": [
    {
     "data": {
      "text/html": [
       "<div>\n",
       "<style scoped>\n",
       "    .dataframe tbody tr th:only-of-type {\n",
       "        vertical-align: middle;\n",
       "    }\n",
       "\n",
       "    .dataframe tbody tr th {\n",
       "        vertical-align: top;\n",
       "    }\n",
       "\n",
       "    .dataframe thead th {\n",
       "        text-align: right;\n",
       "    }\n",
       "</style>\n",
       "<table border=\"1\" class=\"dataframe\">\n",
       "  <thead>\n",
       "    <tr style=\"text-align: right;\">\n",
       "      <th></th>\n",
       "      <th>image</th>\n",
       "      <th>cultivar</th>\n",
       "      <th>file_path</th>\n",
       "      <th>cultivar_index</th>\n",
       "      <th>is_exist</th>\n",
       "    </tr>\n",
       "  </thead>\n",
       "  <tbody>\n",
       "    <tr>\n",
       "      <th>0</th>\n",
       "      <td>2017-06-16__12-24-20-930.png</td>\n",
       "      <td>PI_257599</td>\n",
       "      <td>../input/sorghum-id-fgvc-9/train_images/2017-0...</td>\n",
       "      <td>0</td>\n",
       "      <td>True</td>\n",
       "    </tr>\n",
       "    <tr>\n",
       "      <th>1</th>\n",
       "      <td>2017-06-02__16-48-57-866.png</td>\n",
       "      <td>PI_154987</td>\n",
       "      <td>../input/sorghum-id-fgvc-9/train_images/2017-0...</td>\n",
       "      <td>1</td>\n",
       "      <td>True</td>\n",
       "    </tr>\n",
       "    <tr>\n",
       "      <th>2</th>\n",
       "      <td>2017-06-12__13-18-07-707.png</td>\n",
       "      <td>PI_92270</td>\n",
       "      <td>../input/sorghum-id-fgvc-9/train_images/2017-0...</td>\n",
       "      <td>2</td>\n",
       "      <td>True</td>\n",
       "    </tr>\n",
       "    <tr>\n",
       "      <th>3</th>\n",
       "      <td>2017-06-22__13-18-06-841.png</td>\n",
       "      <td>PI_152651</td>\n",
       "      <td>../input/sorghum-id-fgvc-9/train_images/2017-0...</td>\n",
       "      <td>3</td>\n",
       "      <td>True</td>\n",
       "    </tr>\n",
       "    <tr>\n",
       "      <th>4</th>\n",
       "      <td>2017-06-26__12-56-48-642.png</td>\n",
       "      <td>PI_176766</td>\n",
       "      <td>../input/sorghum-id-fgvc-9/train_images/2017-0...</td>\n",
       "      <td>4</td>\n",
       "      <td>True</td>\n",
       "    </tr>\n",
       "  </tbody>\n",
       "</table>\n",
       "</div>"
      ],
      "text/plain": [
       "                          image   cultivar  \\\n",
       "0  2017-06-16__12-24-20-930.png  PI_257599   \n",
       "1  2017-06-02__16-48-57-866.png  PI_154987   \n",
       "2  2017-06-12__13-18-07-707.png   PI_92270   \n",
       "3  2017-06-22__13-18-06-841.png  PI_152651   \n",
       "4  2017-06-26__12-56-48-642.png  PI_176766   \n",
       "\n",
       "                                           file_path  cultivar_index  is_exist  \n",
       "0  ../input/sorghum-id-fgvc-9/train_images/2017-0...               0      True  \n",
       "1  ../input/sorghum-id-fgvc-9/train_images/2017-0...               1      True  \n",
       "2  ../input/sorghum-id-fgvc-9/train_images/2017-0...               2      True  \n",
       "3  ../input/sorghum-id-fgvc-9/train_images/2017-0...               3      True  \n",
       "4  ../input/sorghum-id-fgvc-9/train_images/2017-0...               4      True  "
      ]
     },
     "execution_count": 7,
     "metadata": {},
     "output_type": "execute_result"
    }
   ],
   "source": [
    "# Train DataSet 파일 불러오기 & DataFrame에 저장\n",
    "df_all[\"file_path\"] = df_all[\"image\"].apply(lambda image: '../input/sorghum-id-fgvc-9/train_images/' + image)\n",
    "\n",
    "# 본래 Train DataSet 파일 속 class 이름 속 인덱스 저장\n",
    "# 유일한 값에 해당 & 유일한 값의 인덱스 저장\n",
    "df_all[\"cultivar_index\"] = df_all[\"cultivar\"].map(lambda item: unique_cultivars.index(item))\n",
    "\n",
    "# 파일 이름 중 존재 하는 경우 저장\n",
    "df_all[\"is_exist\"] = df_all[\"file_path\"].apply(lambda file_path: os.path.exists(file_path))\n",
    "\n",
    "# 존재하는 파일만 저장하기 때문에 존재 여부 True\n",
    "df_all = df_all[df_all.is_exist==True]\n",
    "\n",
    "# Train DataSet Head 추출\n",
    "df_all.head()"
   ]
  },
  {
   "cell_type": "markdown",
   "id": "f512048a",
   "metadata": {
    "papermill": {
     "duration": 0.06691,
     "end_time": "2022-06-11T06:25:31.832733",
     "exception": false,
     "start_time": "2022-06-11T06:25:31.765823",
     "status": "completed"
    },
    "tags": []
   },
   "source": [
    "## ✔️ Train DataSet & Validation DataSet 분리\n",
    "-----\n",
    "* **KFold 방법론 사용**\n",
    "* **KFold 횟수 - 4**"
   ]
  },
  {
   "cell_type": "code",
   "execution_count": 8,
   "id": "4f7d822f",
   "metadata": {
    "execution": {
     "iopub.execute_input": "2022-06-11T06:25:31.976666Z",
     "iopub.status.busy": "2022-06-11T06:25:31.975644Z",
     "iopub.status.idle": "2022-06-11T06:25:32.005269Z",
     "shell.execute_reply": "2022-06-11T06:25:32.005982Z",
     "shell.execute_reply.started": "2022-06-07T04:17:33.37382Z"
    },
    "papermill": {
     "duration": 0.107068,
     "end_time": "2022-06-11T06:25:32.006347",
     "exception": false,
     "start_time": "2022-06-11T06:25:31.899279",
     "status": "completed"
    },
    "tags": []
   },
   "outputs": [
    {
     "name": "stdout",
     "output_type": "stream",
     "text": [
      "train size: 16645\n",
      "valid size: 5548\n",
      "PI_156393    224\n",
      "PI_155760    212\n",
      "PI_157030    204\n",
      "PI_329299    201\n",
      "PI_152771    197\n",
      "            ... \n",
      "PI_152816    102\n",
      "PI_181080    102\n",
      "PI_213900    101\n",
      "PI_152971    101\n",
      "PI_257600    100\n",
      "Name: cultivar, Length: 100, dtype: int64\n",
      "PI_156393    74\n",
      "PI_155760    70\n",
      "PI_329299    68\n",
      "PI_157030    68\n",
      "PI_152771    65\n",
      "             ..\n",
      "PI_152971    34\n",
      "PI_195754    34\n",
      "PI_329310    34\n",
      "PI_181083    34\n",
      "PI_213900    34\n",
      "Name: cultivar, Length: 100, dtype: int64\n"
     ]
    }
   ],
   "source": [
    "# 총 KFold 수 - 4번\n",
    "skf = StratifiedKFold(n_splits=gcc.num_folds, shuffle=True, random_state=gcc.seed)\n",
    "\n",
    "# DataSet 담을 List 선언\n",
    "train_folds = []\n",
    "val_folds = []\n",
    "\n",
    "for train_idx, valid_idx in skf.split(df_all['image'], df_all[\"cultivar_index\"]):\n",
    "    train_folds.append(train_idx)\n",
    "    val_folds.append(valid_idx)\n",
    "\n",
    "df_train = df_all.iloc[train_folds[gcc.fold]]\n",
    "df_valid = df_all.iloc[val_folds[gcc.fold]]\n",
    "\n",
    "print(f\"train size: {len(df_train)}\")\n",
    "print(f\"valid size: {len(df_valid)}\")\n",
    "\n",
    "print(df_train.cultivar.value_counts())\n",
    "print(df_valid.cultivar.value_counts())"
   ]
  },
  {
   "cell_type": "markdown",
   "id": "5d6bfb7a",
   "metadata": {
    "papermill": {
     "duration": 0.065241,
     "end_time": "2022-06-11T06:25:32.139051",
     "exception": false,
     "start_time": "2022-06-11T06:25:32.073810",
     "status": "completed"
    },
    "tags": []
   },
   "source": [
    "## ✔️ Image 전처리\n",
    "-----\n",
    "* **Random Box를 이용하여 이미지를 자름**\n",
    "* **랜덤으로 추출한 Postion을 이용하여 해당 위치부터 Random 박스 이용하여 자름**\n",
    "* **본래 가지고 있던 Image 사이즈를 원하는 사이즈인 512로 바꾸기 위한 과정**"
   ]
  },
  {
   "cell_type": "code",
   "execution_count": 9,
   "id": "8060b912",
   "metadata": {
    "execution": {
     "iopub.execute_input": "2022-06-11T06:25:32.277451Z",
     "iopub.status.busy": "2022-06-11T06:25:32.276714Z",
     "iopub.status.idle": "2022-06-11T06:25:32.296218Z",
     "shell.execute_reply": "2022-06-11T06:25:32.296721Z",
     "shell.execute_reply.started": "2022-06-07T04:17:33.41456Z"
    },
    "papermill": {
     "duration": 0.091395,
     "end_time": "2022-06-11T06:25:32.296906",
     "exception": false,
     "start_time": "2022-06-11T06:25:32.205511",
     "status": "completed"
    },
    "tags": []
   },
   "outputs": [],
   "source": [
    "from pylab import rcParams\n",
    "rcParams['figure.figsize'] = 20,40\n",
    "\n",
    "# Random 박스 생성 & 결국에는 새로운 Image 생성\n",
    "# 다른 전처리를 하지는 않고 자르기만 진행\n",
    "def rand_bbox(size, lam):\n",
    "    W = size[2]\n",
    "    H = size[3]\n",
    "    cut_rat = np.sqrt(1. - lam)\n",
    "    cut_w = np.int64(W * cut_rat)\n",
    "    cut_h = np.int64(H * cut_rat)\n",
    "\n",
    "    # uniform\n",
    "    cx = np.random.randint(W)\n",
    "    cy = np.random.randint(H)\n",
    "\n",
    "    bbx1 = np.clip(cx - cut_w // 2, 0, W)\n",
    "    bby1 = np.clip(cy - cut_h // 2, 0, H)\n",
    "    bbx2 = np.clip(cx + cut_w // 2, 0, W)\n",
    "    bby2 = np.clip(cy + cut_h // 2, 0, H)\n",
    "    return bbx1, bby1, bbx2, bby2\n",
    "\n",
    "\n",
    "# 자르기 위한 전처리 과정\n",
    "def cutmix(data, target, alpha):\n",
    "    \n",
    "    # 정수로 구성된 난수를 생성 -> Data 사이즈 범위 내에서 생성\n",
    "    indices = torch.randperm(data.size(0))\n",
    "    shuffled_data = data[indices]\n",
    "    shuffled_target = target[indices]\n",
    "\n",
    "    lam = np.clip(np.random.beta(alpha, alpha),0.3,0.4)\n",
    "    bbx1, bby1, bbx2, bby2 = rand_bbox(data.size(), lam)\n",
    "    \n",
    "    # 이미지 요소를 그대로 복제\n",
    "    new_data = data.clone()\n",
    "    new_data[:, :, bby1:bby2, bbx1:bbx2] = data[indices, :, bby1:bby2, bbx1:bbx2]\n",
    "    \n",
    "    # rand_bbox에서 나온 결과값을 Data의 픽셀과 비율을 정확하게 매치 시키기 위한 과정 수행\n",
    "    lam = 1 - ((bbx2 - bbx1) * (bby2 - bby1) / (data.size()[-1] * data.size()[-2]))\n",
    "    targets = (target, shuffled_target, lam)\n",
    "\n",
    "    return new_data, targets"
   ]
  },
  {
   "cell_type": "markdown",
   "id": "39de7e0c",
   "metadata": {
    "papermill": {
     "duration": 0.06692,
     "end_time": "2022-06-11T06:25:32.429321",
     "exception": false,
     "start_time": "2022-06-11T06:25:32.362401",
     "status": "completed"
    },
    "tags": []
   },
   "source": [
    "### ✔️ 불러온 DataSet을 전처리하기 전 사용하는 함수 & 클래스 정의"
   ]
  },
  {
   "cell_type": "code",
   "execution_count": 10,
   "id": "ce0c67c1",
   "metadata": {
    "execution": {
     "iopub.execute_input": "2022-06-11T06:25:32.565391Z",
     "iopub.status.busy": "2022-06-11T06:25:32.564700Z",
     "iopub.status.idle": "2022-06-11T06:25:32.574511Z",
     "shell.execute_reply": "2022-06-11T06:25:32.575039Z",
     "shell.execute_reply.started": "2022-06-07T04:17:33.439143Z"
    },
    "papermill": {
     "duration": 0.07947,
     "end_time": "2022-06-11T06:25:32.575252",
     "exception": false,
     "start_time": "2022-06-11T06:25:32.495782",
     "status": "completed"
    },
    "tags": []
   },
   "outputs": [],
   "source": [
    "class SorghumDataset(Dataset):\n",
    "    def __init__(self, dirs, labels, transformation=None):\n",
    "        super(SorghumDataset,self).__init__()\n",
    "        self.dirs = dirs\n",
    "        self.labels = labels\n",
    "        self.transformation = transformation\n",
    "    def __len__(self):\n",
    "        return len(self.dirs)\n",
    "\n",
    "    def __getitem__(self, index):\n",
    "        image = cv2.imread(self.dirs[index])\n",
    "        image = cv2.cvtColor(image, cv2.COLOR_BGR2RGB)\n",
    "        label = self.labels[index] # need to one hot encoding here\n",
    "        \n",
    "        image = np.array(image)\n",
    "\n",
    "        if self.transformation:\n",
    "            aug_image = self.transformation(image=image)\n",
    "            image = aug_image['image']\n",
    "        \n",
    "        # 픽셀 값을 255로 나누어 정규화 진행\n",
    "        image = image / 255.\n",
    "        image = image.transpose((2, 0, 1))\n",
    "        \n",
    "        image = torch.from_numpy(image).type(torch.float32)\n",
    "        image = transforms.Normalize((0.485, 0.456, 0.406), (0.229, 0.224, 0.225))(image)\n",
    "        \n",
    "        labels = torch.from_numpy(np.array(self.labels[index])).type(torch.float32)\n",
    "\n",
    "        return image, labels"
   ]
  },
  {
   "cell_type": "code",
   "execution_count": 11,
   "id": "34877630",
   "metadata": {
    "execution": {
     "iopub.execute_input": "2022-06-11T06:25:32.710946Z",
     "iopub.status.busy": "2022-06-11T06:25:32.710218Z",
     "iopub.status.idle": "2022-06-11T06:25:32.716086Z",
     "shell.execute_reply": "2022-06-11T06:25:32.716623Z",
     "shell.execute_reply.started": "2022-06-07T04:17:33.455691Z"
    },
    "papermill": {
     "duration": 0.075668,
     "end_time": "2022-06-11T06:25:32.716821",
     "exception": false,
     "start_time": "2022-06-11T06:25:32.641153",
     "status": "completed"
    },
    "tags": []
   },
   "outputs": [],
   "source": [
    "training_transformation = A.Compose([\n",
    "    A.Resize(width=gcc.image_size, height=gcc.image_size, p=1.0),\n",
    "    A.Flip(p=0.5),\n",
    "    A.RandomRotate90(p=0.5),\n",
    "    A.ShiftScaleRotate(p=0.5),\n",
    "    A.HueSaturationValue(p=0.5),\n",
    "])\n",
    "\n",
    "validation_transformation = A.Compose([\n",
    "    A.Resize(width=gcc.image_size, height=gcc.image_size, p=1.0)\n",
    "])"
   ]
  },
  {
   "cell_type": "markdown",
   "id": "ff343f10",
   "metadata": {
    "papermill": {
     "duration": 0.066083,
     "end_time": "2022-06-11T06:25:32.849955",
     "exception": false,
     "start_time": "2022-06-11T06:25:32.783872",
     "status": "completed"
    },
    "tags": []
   },
   "source": [
    "## ✔️ Train & Validation DataSet 로드\n",
    "-----\n",
    "* **Train batch size : 8**\n",
    "* **Validation batch size : 32**\n",
    "* **Suffle : True**"
   ]
  },
  {
   "cell_type": "code",
   "execution_count": 12,
   "id": "93666b61",
   "metadata": {
    "execution": {
     "iopub.execute_input": "2022-06-11T06:25:32.990338Z",
     "iopub.status.busy": "2022-06-11T06:25:32.989648Z",
     "iopub.status.idle": "2022-06-11T06:25:32.996729Z",
     "shell.execute_reply": "2022-06-11T06:25:32.997270Z",
     "shell.execute_reply.started": "2022-06-07T04:17:33.47158Z"
    },
    "papermill": {
     "duration": 0.080991,
     "end_time": "2022-06-11T06:25:32.997491",
     "exception": false,
     "start_time": "2022-06-11T06:25:32.916500",
     "status": "completed"
    },
    "tags": []
   },
   "outputs": [],
   "source": [
    "training_set = SorghumDataset(df_train.file_path.values, df_train.cultivar_index.values, training_transformation)\n",
    "validation_set = SorghumDataset(df_valid.file_path.values, df_valid.cultivar_index.values, validation_transformation)\n",
    "\n",
    "training_dataloader = DataLoader(\n",
    "    training_set,\n",
    "    batch_size = gcc.batch_size,\n",
    "    shuffle = True,\n",
    "    num_workers = gcc.num_workers,\n",
    "    pin_memory = True, \n",
    "    drop_last = True\n",
    ")\n",
    "\n",
    "validation_dataloader = DataLoader(\n",
    "    validation_set,\n",
    "    batch_size = gcc.val_batch_size,\n",
    "    shuffle = True,\n",
    "    num_workers = gcc.num_workers,\n",
    "    pin_memory = True,\n",
    "    drop_last = True\n",
    ")"
   ]
  },
  {
   "cell_type": "markdown",
   "id": "e4dcc1c1",
   "metadata": {
    "papermill": {
     "duration": 0.066024,
     "end_time": "2022-06-11T06:25:33.132340",
     "exception": false,
     "start_time": "2022-06-11T06:25:33.066316",
     "status": "completed"
    },
    "tags": []
   },
   "source": [
    "## ✔️ 사용하고자 하는 모델을 원하는 모델로 재정의"
   ]
  },
  {
   "cell_type": "code",
   "execution_count": 13,
   "id": "ca9185dd",
   "metadata": {
    "execution": {
     "iopub.execute_input": "2022-06-11T06:25:33.268330Z",
     "iopub.status.busy": "2022-06-11T06:25:33.267624Z",
     "iopub.status.idle": "2022-06-11T06:25:33.274963Z",
     "shell.execute_reply": "2022-06-11T06:25:33.275521Z",
     "shell.execute_reply.started": "2022-06-07T04:17:33.48464Z"
    },
    "papermill": {
     "duration": 0.077201,
     "end_time": "2022-06-11T06:25:33.275722",
     "exception": false,
     "start_time": "2022-06-11T06:25:33.198521",
     "status": "completed"
    },
    "tags": []
   },
   "outputs": [],
   "source": [
    "class CustomModel(torch.nn.Module): \n",
    "    def __init__(self, model_backbone):\n",
    "        super(CustomModel,self).__init__()\n",
    "        self.model = model_backbone\n",
    "        self.num_in_features = self.model.get_classifier().in_features\n",
    "        print(self.num_in_features)\n",
    "        \n",
    "        # 여러 클래스를 구분하기 위해서 Sequential 사용\n",
    "        # 활성 함수 : ReLU\n",
    "        # 과적합 방지를 위한 Dropout : 0.5 설정\n",
    "        self.model.classifier = nn.Sequential(\n",
    "            nn.BatchNorm1d(self.num_in_features),\n",
    "            nn.Linear(self.num_in_features, 512),\n",
    "            nn.Dropout(0.5),\n",
    "            nn.ReLU(inplace=True),\n",
    "            nn.Linear(512, gcc.num_classes),\n",
    "        )\n",
    "\n",
    "    def forward(self,x):\n",
    "        x = self.model(x)\n",
    "        return x"
   ]
  },
  {
   "cell_type": "code",
   "execution_count": 14,
   "id": "c4d903ad",
   "metadata": {
    "execution": {
     "iopub.execute_input": "2022-06-11T06:25:33.413634Z",
     "iopub.status.busy": "2022-06-11T06:25:33.412900Z",
     "iopub.status.idle": "2022-06-11T06:25:33.632689Z",
     "shell.execute_reply": "2022-06-11T06:25:33.633247Z",
     "shell.execute_reply.started": "2022-06-07T04:17:33.499553Z"
    },
    "papermill": {
     "duration": 0.290618,
     "end_time": "2022-06-11T06:25:33.633458",
     "exception": false,
     "start_time": "2022-06-11T06:25:33.342840",
     "status": "completed"
    },
    "tags": []
   },
   "outputs": [],
   "source": [
    "def to_one_hot(labels, num_classes, dtype=torch.float, dim=1):\n",
    "    if labels.ndim < dim + 1:\n",
    "        shape = list(labels.shape) + [1] * (dim + 1 - len(labels.shape))\n",
    "        labels = torch.reshape(labels, shape)\n",
    "    sh = list(labels.shape)\n",
    "    sh[dim] = num_classes\n",
    "    o = torch.zeros(size=sh, dtype=dtype, device=labels.device)\n",
    "    labels = o.scatter_(dim=dim, index=labels.long(), value=1)\n",
    "    return labels\n",
    "\n",
    "class PolyLoss(_Loss):\n",
    "    def __init__(self, softmax, ce_weight=None, reduction='mean', epsilon=1.0):\n",
    "        super().__init__()\n",
    "        self.softmax = softmax\n",
    "        self.reduction = reduction\n",
    "        self.epsilon = epsilon\n",
    "        self.cross_entropy = nn.CrossEntropyLoss(weight=ce_weight, reduction='none')\n",
    "\n",
    "    def forward(self, input, target):\n",
    "\n",
    "        if len(input.shape) - len(target.shape) == 1:\n",
    "            target = target.unsqueeze(1).long()\n",
    "        n_pred_ch, n_target_ch = input.shape[1], target.shape[1]\n",
    "        if n_pred_ch != n_target_ch:\n",
    "            self.ce_loss = self.cross_entropy(input, torch.squeeze(target, dim=1).long())\n",
    "            target = to_one_hot(target, num_classes=n_pred_ch)\n",
    "        else:\n",
    "            self.ce_loss = self.cross_entropy(input, torch.argmax(target, dim=1))\n",
    "\n",
    "        if self.softmax:\n",
    "            input = torch.softmax(input, 1)\n",
    "\n",
    "        pt = (input * target).sum(dim=1) \n",
    "        \n",
    "        poly_loss = self.ce_loss + self.epsilon * (1 - pt)\n",
    "\n",
    "        polyl = torch.mean(poly_loss)  # the batch and channel average\n",
    "        # polyl = torch.sum(poly_loss)  # sum over the batch and channel dims\n",
    "        return (polyl)"
   ]
  },
  {
   "cell_type": "markdown",
   "id": "ff19309c",
   "metadata": {
    "papermill": {
     "duration": 0.065826,
     "end_time": "2022-06-11T06:25:33.765739",
     "exception": false,
     "start_time": "2022-06-11T06:25:33.699913",
     "status": "completed"
    },
    "tags": []
   },
   "source": [
    "## ✔️ 학습에 필요한 함수들 선언\n",
    "-----\n",
    "* **Loss 함수 : CrossEntropyLoss**\n",
    "* **Optimizer 함수 : Adam**\n",
    "* **스케줄러 : CosineAnnealingWarmRestarts**"
   ]
  },
  {
   "cell_type": "code",
   "execution_count": 15,
   "id": "845d8132",
   "metadata": {
    "execution": {
     "iopub.execute_input": "2022-06-11T06:25:33.903685Z",
     "iopub.status.busy": "2022-06-11T06:25:33.902963Z",
     "iopub.status.idle": "2022-06-11T06:25:37.612239Z",
     "shell.execute_reply": "2022-06-11T06:25:37.611598Z",
     "shell.execute_reply.started": "2022-06-07T04:17:33.520719Z"
    },
    "papermill": {
     "duration": 3.779539,
     "end_time": "2022-06-11T06:25:37.612418",
     "exception": false,
     "start_time": "2022-06-11T06:25:33.832879",
     "status": "completed"
    },
    "tags": []
   },
   "outputs": [
    {
     "name": "stderr",
     "output_type": "stream",
     "text": [
      "Downloading: \"https://github.com/rwightman/pytorch-image-models/releases/download/v0.1-weights/efficientnet_b3_ra2-cf984f9c.pth\" to /root/.cache/torch/hub/checkpoints/efficientnet_b3_ra2-cf984f9c.pth\n",
      "/opt/conda/lib/python3.7/site-packages/torch/cuda/amp/grad_scaler.py:115: UserWarning: torch.cuda.amp.GradScaler is enabled, but CUDA is not available.  Disabling.\n",
      "  warnings.warn(\"torch.cuda.amp.GradScaler is enabled, but CUDA is not available.  Disabling.\")\n"
     ]
    },
    {
     "name": "stdout",
     "output_type": "stream",
     "text": [
      "1536\n",
      "load model done\n"
     ]
    }
   ],
   "source": [
    "# 사용하고자 하는 모델 불러와서 새롭게 재정의\n",
    "backbone = timm.create_model(gcc.model_name,pretrained=True)\n",
    "\n",
    "scaler = GradScaler()   \n",
    "# 재정의 할 클래스에 입력\n",
    "model = CustomModel(backbone)\n",
    "\n",
    "loss_func = torch.nn.CrossEntropyLoss().to(gcc.device)\n",
    "metrics_acc = torchmetrics.Accuracy(threshold=0.0, num_classes = gcc.num_classes)\n",
    "\n",
    "trainable_parameters = [param for param in model.parameters() if param.requires_grad == True]\n",
    "optimizer = torch.optim.Adam(trainable_parameters, lr = gcc.lr)\n",
    "\n",
    "lr_scheduler = torch.optim.lr_scheduler.CosineAnnealingWarmRestarts(optimizer, T_0=5, T_mult=2)\n",
    "\n",
    "model.to(gcc.device)\n",
    "\n",
    "print('load model done')"
   ]
  },
  {
   "cell_type": "markdown",
   "id": "4d24f79b",
   "metadata": {
    "papermill": {
     "duration": 0.068511,
     "end_time": "2022-06-11T06:25:37.748674",
     "exception": false,
     "start_time": "2022-06-11T06:25:37.680163",
     "status": "completed"
    },
    "tags": []
   },
   "source": [
    "## ✔️ Image Data 분석\n",
    "------\n",
    "* **Color Image로 구성되어있어서 tensor[0]에 3가지(R,G,B)의 이미지 정보가 들어있음**\n",
    "* **tensor[1]에는 label이 함께 포함이 됨**"
   ]
  },
  {
   "cell_type": "code",
   "execution_count": 16,
   "id": "4421d9e7",
   "metadata": {
    "execution": {
     "iopub.execute_input": "2022-06-11T06:25:37.888797Z",
     "iopub.status.busy": "2022-06-11T06:25:37.887788Z",
     "iopub.status.idle": "2022-06-11T06:25:38.052954Z",
     "shell.execute_reply": "2022-06-11T06:25:38.052115Z",
     "shell.execute_reply.started": "2022-06-07T04:17:37.216208Z"
    },
    "papermill": {
     "duration": 0.236815,
     "end_time": "2022-06-11T06:25:38.053131",
     "exception": false,
     "start_time": "2022-06-11T06:25:37.816316",
     "status": "completed"
    },
    "tags": []
   },
   "outputs": [
    {
     "data": {
      "text/plain": [
       "(tensor([[[-1.0048, -0.9877, -1.0048,  ..., -0.7993, -0.9192, -1.2445],\n",
       "          [-0.9363, -0.9877, -0.9877,  ..., -0.7993, -0.8678, -1.2445],\n",
       "          [-1.0219, -0.9705, -0.9705,  ..., -0.7822, -0.8849, -1.2445],\n",
       "          ...,\n",
       "          [-0.5253, -0.4911, -0.4739,  ..., -1.2445, -1.1760, -1.2274],\n",
       "          [-0.4739, -0.5082, -0.4911,  ..., -1.3130, -1.2959, -1.2617],\n",
       "          [-0.4739, -0.4568, -0.4739,  ..., -1.3473, -1.3473, -1.3473]],\n",
       " \n",
       "         [[-0.7577, -0.7577, -0.7577,  ..., -0.5126, -0.6352, -1.0378],\n",
       "          [-0.7752, -0.7577, -0.7577,  ..., -0.5126, -0.6001, -1.0903],\n",
       "          [-0.7577, -0.7577, -0.7752,  ..., -0.4951, -0.6001, -1.0728],\n",
       "          ...,\n",
       "          [-0.1800, -0.1625, -0.1450,  ..., -1.0728, -1.0378, -1.0728],\n",
       "          [-0.1275, -0.1450, -0.1625,  ..., -1.1429, -1.1078, -1.1078],\n",
       "          [-0.1099, -0.0924, -0.1275,  ..., -1.1779, -1.1604, -1.1779]],\n",
       " \n",
       "         [[-0.8110, -0.8110, -0.7936,  ..., -0.6018, -0.6715, -0.9853],\n",
       "          [-0.7936, -0.8110, -0.7761,  ..., -0.6018, -0.6367, -0.9853],\n",
       "          [-0.7761, -0.7761, -0.7936,  ..., -0.5844, -0.6541, -0.9678],\n",
       "          ...,\n",
       "          [-0.3578, -0.3578, -0.3404,  ..., -1.1073, -1.0376, -1.0724],\n",
       "          [-0.3578, -0.3578, -0.3404,  ..., -1.1421, -1.1247, -1.1073],\n",
       "          [-0.3404, -0.3230, -0.3404,  ..., -1.1421, -1.1421, -1.1247]]]),\n",
       " tensor(0.))"
      ]
     },
     "execution_count": 16,
     "metadata": {},
     "output_type": "execute_result"
    }
   ],
   "source": [
    "training_set[0]"
   ]
  },
  {
   "cell_type": "markdown",
   "id": "450b4e86",
   "metadata": {
    "papermill": {
     "duration": 0.068176,
     "end_time": "2022-06-11T06:25:38.189507",
     "exception": false,
     "start_time": "2022-06-11T06:25:38.121331",
     "status": "completed"
    },
    "tags": []
   },
   "source": [
    "## ✔️ Model 학습 진행\n",
    "------\n",
    "* **학습을 진행하면서 주석처리 부분을 이용하여 사용되는 Data 확인**"
   ]
  },
  {
   "cell_type": "code",
   "execution_count": 17,
   "id": "30dadafe",
   "metadata": {
    "execution": {
     "iopub.execute_input": "2022-06-11T06:25:38.330608Z",
     "iopub.status.busy": "2022-06-11T06:25:38.329842Z",
     "iopub.status.idle": "2022-06-11T06:25:38.343448Z",
     "shell.execute_reply": "2022-06-11T06:25:38.343983Z",
     "shell.execute_reply.started": "2022-06-07T04:17:37.381333Z"
    },
    "papermill": {
     "duration": 0.086263,
     "end_time": "2022-06-11T06:25:38.344211",
     "exception": false,
     "start_time": "2022-06-11T06:25:38.257948",
     "status": "completed"
    },
    "tags": []
   },
   "outputs": [],
   "source": [
    "import torchvision.transforms as T\n",
    "from torchvision.transforms.functional import to_pil_image\n",
    "\n",
    "def training_progress(training_dataloader, loss_func, scheduler):\n",
    "    model.train()\n",
    "    training_loss = 0\n",
    "    training_acc = 0\n",
    "    cnt = 0 \n",
    "    print('Learning rate: ',scheduler.get_last_lr())\n",
    "    print(scheduler.state_dict())\n",
    "    training_loader = tqdm(training_dataloader, desc='Iterating through the training set')\n",
    "    for image, label in training_loader:\n",
    "        image = image.to(gcc.device).float()\n",
    "        label = label.to(gcc.device).long()\n",
    "\n",
    "#         plt.figure()\n",
    "#         plt.subplot(1,2,1)\n",
    "#         plt.imshow(to_pil_image(image[0]), cmap='gray')\n",
    "#         plt.title('train')\n",
    "\n",
    "        mix_decision = np.random.rand()\n",
    "        if mix_decision < 0.25:\n",
    "            image, label = cutmix(image, label, 1.)\n",
    "\n",
    "        with autocast():\n",
    "            output = model(image.float())\n",
    "\n",
    "            if mix_decision < 0.25:\n",
    "\n",
    "                acc = metrics_acc(output, label[0].cpu().argmax(1)) * label[2].cpu().argmax(1) + metric_acc(output, label[1].cpu().argmax(1)) * (1. - label[2].cpu().argmax(1)) # metrics_acc(output.cpu().argmax(1), label.cpu().int())\n",
    "                loss = loss_func(output, label[0]) * label[2] + loss_func(output, label[1]) * (1. - label[2])\n",
    "                \n",
    "            else:\n",
    "                loss = loss_func(output, label)\n",
    "\n",
    "        # acc = 0\n",
    "        acc = metrics_acc(output.cpu().argmax(1), label.cpu().int())\n",
    "        # metrics_acc(output.cpu().argmax(1), label.cpu().int())\n",
    "        # loss = loss_func(output, label.long())\n",
    "\n",
    "        training_loss += loss.detach().item()\n",
    "        training_acc += acc\n",
    "        cnt +=1 \n",
    "        \n",
    "        optimizer.zero_grad()\n",
    "        loss.backward()\n",
    "        optimizer.step()\n",
    "        scheduler.step()\n",
    "    \n",
    "    mean_training_loss = training_loss / cnt\n",
    "    mean_training_acc = training_acc / cnt\n",
    "    \n",
    "    return mean_training_loss, mean_training_acc"
   ]
  },
  {
   "cell_type": "markdown",
   "id": "30308af7",
   "metadata": {
    "papermill": {
     "duration": 0.067833,
     "end_time": "2022-06-11T06:25:38.480463",
     "exception": false,
     "start_time": "2022-06-11T06:25:38.412630",
     "status": "completed"
    },
    "tags": []
   },
   "source": [
    "## ✔️ Model Validation 진행\n",
    "------\n",
    "* **정확도가 떨어지는 class를 확인하기 위해 데이터셋의 label과 모델 예측 label을 저장**\n",
    "* **batch size가 32로 설정이 되어있어, label_list에 32개씩 저장됨**\n",
    "* **예측값과 정답을 비교하여, 정확도가 떨어지는 class 찾기**"
   ]
  },
  {
   "cell_type": "code",
   "execution_count": 18,
   "id": "752dc602",
   "metadata": {
    "execution": {
     "iopub.execute_input": "2022-06-11T06:25:38.620153Z",
     "iopub.status.busy": "2022-06-11T06:25:38.619500Z",
     "iopub.status.idle": "2022-06-11T06:25:38.628669Z",
     "shell.execute_reply": "2022-06-11T06:25:38.628107Z",
     "shell.execute_reply.started": "2022-06-07T04:17:38.111468Z"
    },
    "papermill": {
     "duration": 0.080425,
     "end_time": "2022-06-11T06:25:38.628837",
     "exception": false,
     "start_time": "2022-06-11T06:25:38.548412",
     "status": "completed"
    },
    "tags": []
   },
   "outputs": [],
   "source": [
    "label_list = []\n",
    "\n",
    "def validation_progress(validation_dataloader, loss_func):\n",
    "    model.eval()\n",
    "    validation_loss = 0\n",
    "    validation_acc = 0\n",
    "    cnt = 0 \n",
    "    global label_list\n",
    "    validation_loader = tqdm(validation_dataloader, desc='Iterating through the validation set')\n",
    "    with torch.no_grad():\n",
    "        for image, label in validation_loader:\n",
    "            image = image.to(gcc.device)\n",
    "            label = label.to(gcc.device)\n",
    "\n",
    "            output = model(image)\n",
    "            loss = loss_func(output, label.long())\n",
    "            # acc = calc_accuracy(output.cpu(), label.cpu())\n",
    "            # output.to(gcc.device)\n",
    "            acc = metrics_acc(output.cpu().argmax(1), label.cpu().int())\n",
    "            label_list.append(output.cpu().argmax(1))\n",
    "            label_list.append(label.cpu().int())\n",
    "            # calculate accuracy here\n",
    "            validation_loss += loss.detach().item()\n",
    "            validation_acc += acc\n",
    "            \n",
    "            cnt += 1\n",
    "\n",
    "    mean_validation_loss = validation_loss / cnt\n",
    "    mean_validation_acc = validation_acc / cnt\n",
    "    return mean_validation_loss, mean_validation_acc"
   ]
  },
  {
   "cell_type": "code",
   "execution_count": 19,
   "id": "b99770f7",
   "metadata": {
    "execution": {
     "iopub.execute_input": "2022-06-11T06:25:38.778074Z",
     "iopub.status.busy": "2022-06-11T06:25:38.777393Z",
     "iopub.status.idle": "2022-06-11T06:25:38.779784Z",
     "shell.execute_reply": "2022-06-11T06:25:38.780394Z",
     "shell.execute_reply.started": "2022-06-07T04:17:40.213946Z"
    },
    "papermill": {
     "duration": 0.082355,
     "end_time": "2022-06-11T06:25:38.780583",
     "exception": false,
     "start_time": "2022-06-11T06:25:38.698228",
     "status": "completed"
    },
    "tags": []
   },
   "outputs": [],
   "source": [
    "def training_model(model, training_dataloader, validation_dataloader, loss_func, scheduler):\n",
    "    training_losses_history, validation_losses_history = [], []\n",
    "    training_acc_history, validation_acc_history = [], []\n",
    "    best_loss = gcc.biggest_loss\n",
    "    for epoch in range(gcc.num_epochs):\n",
    "        \n",
    "        training_loss, training_acc = training_progress(training_dataloader, loss_func, scheduler)\n",
    "        training_losses_history.append(training_loss)\n",
    "        training_acc_history.append(training_acc)\n",
    "        \n",
    "        validation_loss, validation_acc = validation_progress(validation_dataloader, loss_func)\n",
    "        validation_losses_history.append(validation_loss)\n",
    "        validation_acc_history.append(validation_acc)\n",
    "        \n",
    "        if validation_loss <= best_loss: # sussy baka\n",
    "            best_loss = validation_loss\n",
    "            torch.save({\n",
    "                'model_state_dict': model.state_dict(),\n",
    "                'optimizer_state_dict': optimizer.state_dict(),\n",
    "                'scheduler_state_dict': scheduler.state_dict()\n",
    "            }, gcc.model_name + '_best.pt')\n",
    "            # torch.save(model.state_dict(), gcc.model_name + '_best.pt')\n",
    "        \n",
    "        if epoch == gcc.num_epochs - 1: # i believe my timing capability\n",
    "            torch.save({\n",
    "                'model_state_dict': model.state_dict(),\n",
    "                'optimizer_state_dict': optimizer.state_dict(),\n",
    "                'scheduler_state_dict': scheduler.state_dict()\n",
    "            }, gcc.model_name + '_' + str(gcc.num_epochs_done + gcc.num_epochs) + '_last.pt')\n",
    "\n",
    "        print(f'Epoch {epoch + 1}/{gcc.num_epochs} | Training_loss : {training_loss:.3f} | Validation_loss : {validation_loss:.3f}' \n",
    "             + f' Training_acc : {training_acc:.3f} | Validation_acc : {validation_acc:.3f}'\n",
    "             )\n",
    "    return training_losses_history, validation_losses_history, training_acc_history, validation_acc_history\n"
   ]
  },
  {
   "cell_type": "code",
   "execution_count": 20,
   "id": "efbce357",
   "metadata": {
    "execution": {
     "iopub.execute_input": "2022-06-11T06:25:38.919285Z",
     "iopub.status.busy": "2022-06-11T06:25:38.918631Z",
     "iopub.status.idle": "2022-06-11T06:25:38.921476Z",
     "shell.execute_reply": "2022-06-11T06:25:38.922053Z",
     "shell.execute_reply.started": "2022-06-07T04:17:41.482487Z"
    },
    "papermill": {
     "duration": 0.074361,
     "end_time": "2022-06-11T06:25:38.922242",
     "exception": false,
     "start_time": "2022-06-11T06:25:38.847881",
     "status": "completed"
    },
    "tags": []
   },
   "outputs": [],
   "source": [
    "# training_losses_history, validation_losses_history, training_acc_history, validation_acc_history = training_model(model, training_dataloader, validation_dataloader, loss_func, lr_scheduler)"
   ]
  },
  {
   "cell_type": "markdown",
   "id": "431a10a0",
   "metadata": {
    "papermill": {
     "duration": 0.069686,
     "end_time": "2022-06-11T06:25:39.060257",
     "exception": false,
     "start_time": "2022-06-11T06:25:38.990571",
     "status": "completed"
    },
    "tags": []
   },
   "source": [
    "## ✔️ Model 학습 상황 (Loss, Accuracy)\n",
    "------\n",
    "* **Train, Validation Loss는 계속해서 떨어지고 있는 양상을 보임**\n",
    "* **Accuracy도 계속해서 오르는 추세를 보이지만, 20 epoch 가까이 가게 되면 일정 수준을 유지하거나 떨어지기 시작함**"
   ]
  },
  {
   "cell_type": "code",
   "execution_count": 21,
   "id": "6a91fa31",
   "metadata": {
    "execution": {
     "iopub.execute_input": "2022-06-11T06:25:39.210820Z",
     "iopub.status.busy": "2022-06-11T06:25:39.198916Z",
     "iopub.status.idle": "2022-06-11T06:25:39.515054Z",
     "shell.execute_reply": "2022-06-11T06:25:39.513845Z",
     "shell.execute_reply.started": "2022-06-06T13:23:18.72889Z"
    },
    "papermill": {
     "duration": 0.387409,
     "end_time": "2022-06-11T06:25:39.515404",
     "exception": true,
     "start_time": "2022-06-11T06:25:39.127995",
     "status": "failed"
    },
    "tags": []
   },
   "outputs": [
    {
     "ename": "NameError",
     "evalue": "name 'training_losses_history' is not defined",
     "output_type": "error",
     "traceback": [
      "\u001b[0;31m---------------------------------------------------------------------------\u001b[0m",
      "\u001b[0;31mNameError\u001b[0m                                 Traceback (most recent call last)",
      "\u001b[0;32m/tmp/ipykernel_19/2721921956.py\u001b[0m in \u001b[0;36m<module>\u001b[0;34m\u001b[0m\n\u001b[1;32m     13\u001b[0m     \u001b[0mplt\u001b[0m\u001b[0;34m.\u001b[0m\u001b[0mshow\u001b[0m\u001b[0;34m(\u001b[0m\u001b[0;34m)\u001b[0m\u001b[0;34m\u001b[0m\u001b[0;34m\u001b[0m\u001b[0m\n\u001b[1;32m     14\u001b[0m \u001b[0;34m\u001b[0m\u001b[0m\n\u001b[0;32m---> 15\u001b[0;31m \u001b[0mplot_loss_history\u001b[0m\u001b[0;34m(\u001b[0m\u001b[0mgcc\u001b[0m\u001b[0;34m.\u001b[0m\u001b[0mmodel_name\u001b[0m\u001b[0;34m,\u001b[0m \u001b[0mtraining_losses_history\u001b[0m\u001b[0;34m,\u001b[0m \u001b[0mvalidation_losses_history\u001b[0m\u001b[0;34m,\u001b[0m \u001b[0mgcc\u001b[0m\u001b[0;34m.\u001b[0m\u001b[0mnum_epochs\u001b[0m\u001b[0;34m)\u001b[0m\u001b[0;34m\u001b[0m\u001b[0;34m\u001b[0m\u001b[0m\n\u001b[0m",
      "\u001b[0;31mNameError\u001b[0m: name 'training_losses_history' is not defined"
     ]
    }
   ],
   "source": [
    "def plot_loss_history(model_name, train_loss_history, val_loss_history, num_epochs):\n",
    "    \n",
    "    x = np.arange(num_epochs)\n",
    "    fig = plt.figure(figsize=(10, 6))\n",
    "    plt.plot(x, train_loss_history, label='Train Loss', lw=3)\n",
    "    plt.plot(x, val_loss_history, label='Validation Loss', lw=3)\n",
    "\n",
    "    plt.title(f\"{model_name}\", fontsize=20)\n",
    "    plt.legend(fontsize=12)\n",
    "    plt.xlabel(\"Epoch\", fontsize=15)\n",
    "    plt.ylabel(\"Loss\", fontsize=15)\n",
    "\n",
    "    plt.show()\n",
    "    \n",
    "plot_loss_history(gcc.model_name, training_losses_history, validation_losses_history, gcc.num_epochs)"
   ]
  },
  {
   "cell_type": "code",
   "execution_count": null,
   "id": "a519e399",
   "metadata": {
    "execution": {
     "iopub.execute_input": "2022-06-06T13:23:19.012093Z",
     "iopub.status.busy": "2022-06-06T13:23:19.011602Z",
     "iopub.status.idle": "2022-06-06T13:23:19.224901Z",
     "shell.execute_reply": "2022-06-06T13:23:19.224256Z",
     "shell.execute_reply.started": "2022-06-06T13:23:19.012053Z"
    },
    "papermill": {
     "duration": null,
     "end_time": null,
     "exception": null,
     "start_time": null,
     "status": "pending"
    },
    "tags": []
   },
   "outputs": [],
   "source": [
    "def plot_acc_history(model_name, train_acc_history, val_acc_history, num_epochs):\n",
    "    \n",
    "    x = np.arange(num_epochs)\n",
    "    fig = plt.figure(figsize=(10, 6))\n",
    "    plt.plot(x, train_acc_history, label='Training Accuracy', lw=3)\n",
    "    plt.plot(x, val_acc_history, label='Validation Accuracy', lw=3)\n",
    "\n",
    "    plt.title(f\"{model_name}\", fontsize=20)\n",
    "    plt.legend(fontsize=12)\n",
    "    plt.xlabel(\"Epoch\", fontsize=15)\n",
    "    plt.ylabel(\"Accuracy\", fontsize=15)\n",
    "\n",
    "    plt.show()\n",
    "    \n",
    "plot_acc_history(gcc.model_name, training_acc_history, validation_acc_history, gcc.num_epochs)"
   ]
  },
  {
   "cell_type": "code",
   "execution_count": null,
   "id": "f88be34e",
   "metadata": {
    "execution": {
     "iopub.execute_input": "2022-06-06T13:23:19.226373Z",
     "iopub.status.busy": "2022-06-06T13:23:19.226118Z",
     "iopub.status.idle": "2022-06-06T13:23:19.570119Z",
     "shell.execute_reply": "2022-06-06T13:23:19.56943Z",
     "shell.execute_reply.started": "2022-06-06T13:23:19.226341Z"
    },
    "papermill": {
     "duration": null,
     "end_time": null,
     "exception": null,
     "start_time": null,
     "status": "pending"
    },
    "tags": []
   },
   "outputs": [],
   "source": [
    "checkpoint = torch.load(gcc.model_name + '_best.pt')\n",
    "model.load_state_dict(checkpoint['model_state_dict'])"
   ]
  },
  {
   "cell_type": "markdown",
   "id": "d234b6be",
   "metadata": {
    "papermill": {
     "duration": null,
     "end_time": null,
     "exception": null,
     "start_time": null,
     "status": "pending"
    },
    "tags": []
   },
   "source": [
    "## ✔️ Model Test\n",
    "------\n",
    "* **Test DataSet 개수 : 23639개**"
   ]
  },
  {
   "cell_type": "code",
   "execution_count": null,
   "id": "4a40e537",
   "metadata": {
    "execution": {
     "iopub.execute_input": "2022-06-06T16:29:40.242287Z",
     "iopub.status.busy": "2022-06-06T16:29:40.241518Z",
     "iopub.status.idle": "2022-06-06T16:29:40.266986Z",
     "shell.execute_reply": "2022-06-06T16:29:40.266262Z",
     "shell.execute_reply.started": "2022-06-06T16:29:40.242248Z"
    },
    "papermill": {
     "duration": null,
     "end_time": null,
     "exception": null,
     "start_time": null,
     "status": "pending"
    },
    "tags": []
   },
   "outputs": [],
   "source": [
    "sub[\"filename\"] = sub[\"filename\"].apply(lambda image: '../input/sorghum-id-fgvc-9/test/' + image)\n",
    "sub[\"cultivar\"] = 0\n",
    "\n",
    "sub.head()"
   ]
  },
  {
   "cell_type": "code",
   "execution_count": null,
   "id": "95b98d0d",
   "metadata": {
    "execution": {
     "iopub.execute_input": "2022-06-06T13:23:19.669476Z",
     "iopub.status.busy": "2022-06-06T13:23:19.669227Z",
     "iopub.status.idle": "2022-06-06T13:23:19.673866Z",
     "shell.execute_reply": "2022-06-06T13:23:19.673189Z",
     "shell.execute_reply.started": "2022-06-06T13:23:19.669447Z"
    },
    "papermill": {
     "duration": null,
     "end_time": null,
     "exception": null,
     "start_time": null,
     "status": "pending"
    },
    "tags": []
   },
   "outputs": [],
   "source": [
    "testing_dataset = SorghumDataset(sub['filename'], sub['cultivar'], validation_transformation)\n",
    "\n",
    "testing_dataloader = DataLoader(testing_dataset, \n",
    "                                batch_size=gcc.val_batch_size, \n",
    "                                shuffle=False, \n",
    "                                num_workers=gcc.num_workers)"
   ]
  },
  {
   "cell_type": "code",
   "execution_count": null,
   "id": "cb205abf",
   "metadata": {
    "execution": {
     "iopub.execute_input": "2022-06-06T13:23:19.676208Z",
     "iopub.status.busy": "2022-06-06T13:23:19.675656Z",
     "iopub.status.idle": "2022-06-06T13:53:08.268829Z",
     "shell.execute_reply": "2022-06-06T13:53:08.267991Z",
     "shell.execute_reply.started": "2022-06-06T13:23:19.676167Z"
    },
    "papermill": {
     "duration": null,
     "end_time": null,
     "exception": null,
     "start_time": null,
     "status": "pending"
    },
    "tags": []
   },
   "outputs": [],
   "source": [
    "# predictions = np.zeros(len(testing_dataloader))\n",
    "predictions = []\n",
    "cnt = 0 \n",
    "with torch.no_grad():\n",
    "    for image, label in tqdm(testing_dataloader):\n",
    "        image = image.to(gcc.device)\n",
    "        outputs = model(image)\n",
    "        # print(outputs)\n",
    "        preds = outputs.detach().cpu()\n",
    "        predictions.append(preds.argmax(1)) # need optimize here\n",
    "        # print(predictions)"
   ]
  },
  {
   "cell_type": "code",
   "execution_count": null,
   "id": "30022d61",
   "metadata": {
    "execution": {
     "iopub.execute_input": "2022-06-06T13:53:08.272222Z",
     "iopub.status.busy": "2022-06-06T13:53:08.271548Z",
     "iopub.status.idle": "2022-06-06T13:53:08.28712Z",
     "shell.execute_reply": "2022-06-06T13:53:08.286266Z",
     "shell.execute_reply.started": "2022-06-06T13:53:08.27219Z"
    },
    "papermill": {
     "duration": null,
     "end_time": null,
     "exception": null,
     "start_time": null,
     "status": "pending"
    },
    "tags": []
   },
   "outputs": [],
   "source": [
    "tmp = predictions[0]\n",
    "for i in range(len(predictions) - 1):\n",
    "    tmp = torch.cat((tmp, predictions[i+1]))"
   ]
  },
  {
   "cell_type": "code",
   "execution_count": null,
   "id": "73c2ce37",
   "metadata": {
    "execution": {
     "iopub.execute_input": "2022-06-06T13:53:08.292217Z",
     "iopub.status.busy": "2022-06-06T13:53:08.291985Z",
     "iopub.status.idle": "2022-06-06T13:53:08.339775Z",
     "shell.execute_reply": "2022-06-06T13:53:08.338817Z",
     "shell.execute_reply.started": "2022-06-06T13:53:08.292189Z"
    },
    "papermill": {
     "duration": null,
     "end_time": null,
     "exception": null,
     "start_time": null,
     "status": "pending"
    },
    "tags": []
   },
   "outputs": [],
   "source": [
    "# predictions = label_encoder.inverse_transform(tmp)\n",
    "predictions = [unique_cultivars[pred] for pred in tmp]"
   ]
  },
  {
   "cell_type": "code",
   "execution_count": null,
   "id": "457a23ee",
   "metadata": {
    "execution": {
     "iopub.execute_input": "2022-06-06T13:53:08.341774Z",
     "iopub.status.busy": "2022-06-06T13:53:08.341439Z",
     "iopub.status.idle": "2022-06-06T13:53:08.432998Z",
     "shell.execute_reply": "2022-06-06T13:53:08.432267Z",
     "shell.execute_reply.started": "2022-06-06T13:53:08.341735Z"
    },
    "papermill": {
     "duration": null,
     "end_time": null,
     "exception": null,
     "start_time": null,
     "status": "pending"
    },
    "tags": []
   },
   "outputs": [],
   "source": [
    "sub = pd.read_csv('../input/sorghum-id-fgvc-9/sample_submission.csv')\n",
    "sub['cultivar'] = predictions\n",
    "sub.to_csv('submission.csv', index=False)\n",
    "sub.head()"
   ]
  },
  {
   "cell_type": "markdown",
   "id": "9a455a29",
   "metadata": {
    "papermill": {
     "duration": null,
     "end_time": null,
     "exception": null,
     "start_time": null,
     "status": "pending"
    },
    "tags": []
   },
   "source": [
    "## ✔️ Model 학습 결과, 정확도가 떨어지는 Class 찾기\n",
    "------\n",
    "* **정확도가 떨어지는 class를 찾기 위해 모델 예측값과 정답 비교**\n",
    "* **label_list = 모델 예측값, 정답**"
   ]
  },
  {
   "cell_type": "code",
   "execution_count": null,
   "id": "2e56fcbd",
   "metadata": {
    "execution": {
     "iopub.execute_input": "2022-06-06T15:27:05.511263Z",
     "iopub.status.busy": "2022-06-06T15:27:05.51097Z",
     "iopub.status.idle": "2022-06-06T15:27:05.52049Z",
     "shell.execute_reply": "2022-06-06T15:27:05.51953Z",
     "shell.execute_reply.started": "2022-06-06T15:27:05.511233Z"
    },
    "papermill": {
     "duration": null,
     "end_time": null,
     "exception": null,
     "start_time": null,
     "status": "pending"
    },
    "tags": []
   },
   "outputs": [],
   "source": [
    "label_list[:5]"
   ]
  },
  {
   "cell_type": "markdown",
   "id": "066983d5",
   "metadata": {
    "papermill": {
     "duration": null,
     "end_time": null,
     "exception": null,
     "start_time": null,
     "status": "pending"
    },
    "tags": []
   },
   "source": [
    "### ❤️ 저장된 값 타입 변경 : Tensor -> DataFrame\n",
    "------\n",
    "* **label_list 내부는 Tensor로 저장**"
   ]
  },
  {
   "cell_type": "code",
   "execution_count": null,
   "id": "ddc0c055",
   "metadata": {
    "execution": {
     "iopub.execute_input": "2022-06-06T16:08:21.165491Z",
     "iopub.status.busy": "2022-06-06T16:08:21.165126Z",
     "iopub.status.idle": "2022-06-06T16:08:21.990519Z",
     "shell.execute_reply": "2022-06-06T16:08:21.989685Z",
     "shell.execute_reply.started": "2022-06-06T16:08:21.16545Z"
    },
    "papermill": {
     "duration": null,
     "end_time": null,
     "exception": null,
     "start_time": null,
     "status": "pending"
    },
    "tags": []
   },
   "outputs": [],
   "source": [
    "label_list_model = []\n",
    "label_list_answer = []\n",
    "\n",
    "for i in range(len(label_list)):\n",
    "    if i % 2 == 0:\n",
    "        for j in range(32):\n",
    "            label_list_model.append((label_list[i].tolist()[j]))\n",
    "\n",
    "    else :\n",
    "        for j in range(32):\n",
    "            label_list_answer.append((label_list[i].tolist())[j])\n",
    "\n",
    "label_pre = pd.DataFrame({'model_pre':[], 'answer':[]})\n",
    "\n",
    "label_pre['model_pre'] = label_list_model\n",
    "label_pre['answer'] = label_list_answer\n",
    "\n",
    "label_pre"
   ]
  },
  {
   "cell_type": "code",
   "execution_count": null,
   "id": "ec56ccaf",
   "metadata": {
    "execution": {
     "iopub.execute_input": "2022-06-06T16:21:20.065753Z",
     "iopub.status.busy": "2022-06-06T16:21:20.064963Z",
     "iopub.status.idle": "2022-06-06T16:21:21.682256Z",
     "shell.execute_reply": "2022-06-06T16:21:21.681475Z",
     "shell.execute_reply.started": "2022-06-06T16:21:20.065714Z"
    },
    "papermill": {
     "duration": null,
     "end_time": null,
     "exception": null,
     "start_time": null,
     "status": "pending"
    },
    "tags": []
   },
   "outputs": [],
   "source": [
    "is_answer = []\n",
    "\n",
    "for i in range(len(label_pre)):\n",
    "    if label_pre['model_pre'][i] == label_pre['answer'][i]:\n",
    "        is_answer.append(1)\n",
    "    else:\n",
    "        is_answer.append(0)\n",
    "        \n",
    "label_pre['is_answer'] = is_answer\n",
    "\n",
    "label_pre"
   ]
  },
  {
   "cell_type": "code",
   "execution_count": null,
   "id": "2c5fc55f",
   "metadata": {
    "execution": {
     "iopub.execute_input": "2022-06-06T17:10:16.694497Z",
     "iopub.status.busy": "2022-06-06T17:10:16.69419Z",
     "iopub.status.idle": "2022-06-06T17:10:16.740041Z",
     "shell.execute_reply": "2022-06-06T17:10:16.739113Z",
     "shell.execute_reply.started": "2022-06-06T17:10:16.694462Z"
    },
    "papermill": {
     "duration": null,
     "end_time": null,
     "exception": null,
     "start_time": null,
     "status": "pending"
    },
    "tags": []
   },
   "outputs": [],
   "source": [
    "prediction = {}\n",
    "\n",
    "for i in range(100):\n",
    "    prediction[i] = 0\n",
    "\n",
    "for i in range(1731,):\n",
    "    if label_pre['is_answer'][i] == 0:\n",
    "        prediction[label_pre['answer'][i]] = prediction[label_pre['answer'][i]] + 1\n",
    "\n",
    "print(prediction)"
   ]
  },
  {
   "cell_type": "code",
   "execution_count": null,
   "id": "aaeac615",
   "metadata": {
    "execution": {
     "iopub.execute_input": "2022-06-07T03:30:40.819788Z",
     "iopub.status.busy": "2022-06-07T03:30:40.819462Z",
     "iopub.status.idle": "2022-06-07T03:30:40.848828Z",
     "shell.execute_reply": "2022-06-07T03:30:40.847789Z",
     "shell.execute_reply.started": "2022-06-07T03:30:40.819754Z"
    },
    "papermill": {
     "duration": null,
     "end_time": null,
     "exception": null,
     "start_time": null,
     "status": "pending"
    },
    "tags": []
   },
   "outputs": [],
   "source": [
    "label_pre = pd.read_csv('../input/is-false/label_list.csv')"
   ]
  },
  {
   "cell_type": "code",
   "execution_count": null,
   "id": "7ea0d2d6",
   "metadata": {
    "execution": {
     "iopub.execute_input": "2022-06-07T03:33:53.654637Z",
     "iopub.status.busy": "2022-06-07T03:33:53.654328Z",
     "iopub.status.idle": "2022-06-07T03:33:55.159313Z",
     "shell.execute_reply": "2022-06-07T03:33:55.158334Z",
     "shell.execute_reply.started": "2022-06-07T03:33:53.654603Z"
    },
    "papermill": {
     "duration": null,
     "end_time": null,
     "exception": null,
     "start_time": null,
     "status": "pending"
    },
    "tags": []
   },
   "outputs": [],
   "source": [
    "is_false = pd.DataFrame({'model_pre':[], 'answer':[], 'is_answer' : []})\n",
    "\n",
    "model_pre = []\n",
    "answer = []\n",
    "is_answer = []\n",
    "\n",
    "for i in range(len(label_pre)):\n",
    "    if label_pre['is_answer'][i] == 0:\n",
    "        model_pre.append(label_pre['model_pre'][i])\n",
    "        answer.append(label_pre['answer'][i])\n",
    "        is_answer.append(label_pre['is_answer'][i])\n",
    "        \n",
    "is_false['model_pre'] = model_pre\n",
    "is_false['answer'] = answer\n",
    "is_false['is_answer'] = is_answer\n",
    "\n",
    "is_false"
   ]
  },
  {
   "cell_type": "code",
   "execution_count": null,
   "id": "bb246aba",
   "metadata": {
    "execution": {
     "iopub.execute_input": "2022-06-07T04:01:17.709709Z",
     "iopub.status.busy": "2022-06-07T04:01:17.709439Z",
     "iopub.status.idle": "2022-06-07T04:01:19.028322Z",
     "shell.execute_reply": "2022-06-07T04:01:19.027383Z",
     "shell.execute_reply.started": "2022-06-07T04:01:17.70968Z"
    },
    "papermill": {
     "duration": null,
     "end_time": null,
     "exception": null,
     "start_time": null,
     "status": "pending"
    },
    "tags": []
   },
   "outputs": [],
   "source": [
    "import seaborn as sns\n",
    "\n",
    "plt.figure(figsize=[24, 6], dpi=200)\n",
    "sns.countplot(x=is_false['answer'])\n",
    "plt.xticks(rotation=60)\n",
    "plt.show()"
   ]
  },
  {
   "cell_type": "code",
   "execution_count": null,
   "id": "9a546b02",
   "metadata": {
    "execution": {
     "iopub.execute_input": "2022-06-07T04:26:57.498952Z",
     "iopub.status.busy": "2022-06-07T04:26:57.498302Z",
     "iopub.status.idle": "2022-06-07T04:26:57.661678Z",
     "shell.execute_reply": "2022-06-07T04:26:57.65967Z",
     "shell.execute_reply.started": "2022-06-07T04:26:57.498897Z"
    },
    "papermill": {
     "duration": null,
     "end_time": null,
     "exception": null,
     "start_time": null,
     "status": "pending"
    },
    "tags": []
   },
   "outputs": [],
   "source": [
    "# df_all[\"cultivar_index\"] = df_all[\"cultivar\"].map(lambda item: unique_cultivars.index(item))\n",
    "for i in range(len(df_all)):\n",
    "    if df_all[\"cultivar_index\"][i] == 6:\n",
    "        print(df_all['image'][i], df_all[\"cultivar\"][i], i)"
   ]
  },
  {
   "cell_type": "code",
   "execution_count": null,
   "id": "8cd789d3",
   "metadata": {
    "execution": {
     "iopub.execute_input": "2022-06-07T04:10:57.652327Z",
     "iopub.status.busy": "2022-06-07T04:10:57.651352Z",
     "iopub.status.idle": "2022-06-07T04:10:57.880781Z",
     "shell.execute_reply": "2022-06-07T04:10:57.880097Z",
     "shell.execute_reply.started": "2022-06-07T04:10:57.652286Z"
    },
    "papermill": {
     "duration": null,
     "end_time": null,
     "exception": null,
     "start_time": null,
     "status": "pending"
    },
    "tags": []
   },
   "outputs": [],
   "source": [
    "class31 = pd.DataFrame({'model_pre':[], 'answer':[], 'is_answer' : []})\n",
    "\n",
    "model_pre = []\n",
    "answer = []\n",
    "is_answer = []\n",
    "\n",
    "for i in range(len(is_false)):\n",
    "    if is_false['answer'][i] == 32:\n",
    "        model_pre.append(is_false['model_pre'][i])\n",
    "        answer.append(is_false['answer'][i])\n",
    "        is_answer.append(is_false['is_answer'][i])\n",
    "        \n",
    "class31['model_pre'] = model_pre\n",
    "class31['answer'] = answer\n",
    "class31['is_answer'] = is_answer\n",
    "\n",
    "class31"
   ]
  },
  {
   "cell_type": "code",
   "execution_count": null,
   "id": "de80924d",
   "metadata": {
    "execution": {
     "iopub.execute_input": "2022-06-07T04:12:21.666088Z",
     "iopub.status.busy": "2022-06-07T04:12:21.66538Z",
     "iopub.status.idle": "2022-06-07T04:12:21.917897Z",
     "shell.execute_reply": "2022-06-07T04:12:21.916666Z",
     "shell.execute_reply.started": "2022-06-07T04:12:21.666023Z"
    },
    "papermill": {
     "duration": null,
     "end_time": null,
     "exception": null,
     "start_time": null,
     "status": "pending"
    },
    "tags": []
   },
   "outputs": [],
   "source": [
    "class90 = pd.DataFrame({'model_pre':[], 'answer':[], 'is_answer' : []})\n",
    "\n",
    "model_pre = []\n",
    "answer = []\n",
    "is_answer = []\n",
    "\n",
    "for i in range(len(is_false)):\n",
    "    if is_false['answer'][i] == 90:\n",
    "        model_pre.append(is_false['model_pre'][i])\n",
    "        answer.append(is_false['answer'][i])\n",
    "        is_answer.append(is_false['is_answer'][i])\n",
    "        \n",
    "class90['model_pre'] = model_pre\n",
    "class90['answer'] = answer\n",
    "class90['is_answer'] = is_answer\n",
    "\n",
    "class90"
   ]
  },
  {
   "cell_type": "code",
   "execution_count": null,
   "id": "a15de90d",
   "metadata": {
    "execution": {
     "iopub.execute_input": "2022-06-07T04:13:32.160235Z",
     "iopub.status.busy": "2022-06-07T04:13:32.159917Z",
     "iopub.status.idle": "2022-06-07T04:13:32.389654Z",
     "shell.execute_reply": "2022-06-07T04:13:32.38878Z",
     "shell.execute_reply.started": "2022-06-07T04:13:32.160204Z"
    },
    "papermill": {
     "duration": null,
     "end_time": null,
     "exception": null,
     "start_time": null,
     "status": "pending"
    },
    "tags": []
   },
   "outputs": [],
   "source": [
    "class72 = pd.DataFrame({'model_pre':[], 'answer':[], 'is_answer' : []})\n",
    "\n",
    "model_pre = []\n",
    "answer = []\n",
    "is_answer = []\n",
    "\n",
    "for i in range(len(is_false)):\n",
    "    if is_false['answer'][i] == 72:\n",
    "        model_pre.append(is_false['model_pre'][i])\n",
    "        answer.append(is_false['answer'][i])\n",
    "        is_answer.append(is_false['is_answer'][i])\n",
    "        \n",
    "class72['model_pre'] = model_pre\n",
    "class72['answer'] = answer\n",
    "class72['is_answer'] = is_answer\n",
    "\n",
    "class72"
   ]
  },
  {
   "cell_type": "code",
   "execution_count": null,
   "id": "447fb101",
   "metadata": {
    "execution": {
     "iopub.execute_input": "2022-06-07T04:13:32.391388Z",
     "iopub.status.busy": "2022-06-07T04:13:32.391056Z",
     "iopub.status.idle": "2022-06-07T04:13:33.095587Z",
     "shell.execute_reply": "2022-06-07T04:13:33.094701Z",
     "shell.execute_reply.started": "2022-06-07T04:13:32.391356Z"
    },
    "papermill": {
     "duration": null,
     "end_time": null,
     "exception": null,
     "start_time": null,
     "status": "pending"
    },
    "tags": []
   },
   "outputs": [],
   "source": [
    "import seaborn as sns\n",
    "\n",
    "plt.figure(figsize=[24, 6], dpi=200)\n",
    "sns.countplot(x=class72['model_pre'])\n",
    "plt.xticks(rotation=60)\n",
    "plt.show()"
   ]
  },
  {
   "cell_type": "code",
   "execution_count": null,
   "id": "e4c0bede",
   "metadata": {
    "execution": {
     "iopub.execute_input": "2022-06-07T04:12:33.751177Z",
     "iopub.status.busy": "2022-06-07T04:12:33.750831Z",
     "iopub.status.idle": "2022-06-07T04:12:34.222625Z",
     "shell.execute_reply": "2022-06-07T04:12:34.221273Z",
     "shell.execute_reply.started": "2022-06-07T04:12:33.751141Z"
    },
    "papermill": {
     "duration": null,
     "end_time": null,
     "exception": null,
     "start_time": null,
     "status": "pending"
    },
    "tags": []
   },
   "outputs": [],
   "source": [
    "import seaborn as sns\n",
    "\n",
    "plt.figure(figsize=[24, 6], dpi=200)\n",
    "sns.countplot(x=class90['model_pre'])\n",
    "plt.xticks(rotation=60)\n",
    "plt.show()"
   ]
  },
  {
   "cell_type": "code",
   "execution_count": null,
   "id": "5211329d",
   "metadata": {
    "execution": {
     "iopub.execute_input": "2022-06-07T03:55:37.768387Z",
     "iopub.status.busy": "2022-06-07T03:55:37.767686Z",
     "iopub.status.idle": "2022-06-07T03:55:41.204433Z",
     "shell.execute_reply": "2022-06-07T03:55:41.202382Z",
     "shell.execute_reply.started": "2022-06-07T03:55:37.768348Z"
    },
    "papermill": {
     "duration": null,
     "end_time": null,
     "exception": null,
     "start_time": null,
     "status": "pending"
    },
    "tags": []
   },
   "outputs": [],
   "source": [
    "from PIL import Image\n",
    "\n",
    "dir = '../input/sorghum-id-fgvc-9/train_images'\n",
    "filename1 = '2017-06-28__10-19-29-505.png'\n",
    "filename2 = '2017-06-01__11-00-44-942.png'\n",
    "filename3 = '2017-06-01__11-00-13-909.png'\n",
    "\n",
    "fig, axes = plt.subplots(nrows=1, ncols=3, figsize=[12, 6], dpi=300)\n",
    "\n",
    "axes[0].imshow(Image.open(os.path.join(dir, filename1)))\n",
    "axes[1].imshow(Image.open(os.path.join(dir, filename2)))\n",
    "axes[2].imshow(Image.open(os.path.join(dir, filename3)))\n",
    "\n",
    "plt.show()"
   ]
  },
  {
   "cell_type": "code",
   "execution_count": null,
   "id": "bb0012e9",
   "metadata": {
    "execution": {
     "iopub.execute_input": "2022-06-07T03:55:41.669245Z",
     "iopub.status.busy": "2022-06-07T03:55:41.668942Z",
     "iopub.status.idle": "2022-06-07T03:55:44.83735Z",
     "shell.execute_reply": "2022-06-07T03:55:44.835506Z",
     "shell.execute_reply.started": "2022-06-07T03:55:41.669213Z"
    },
    "papermill": {
     "duration": null,
     "end_time": null,
     "exception": null,
     "start_time": null,
     "status": "pending"
    },
    "tags": []
   },
   "outputs": [],
   "source": [
    "from PIL import Image\n",
    "\n",
    "dir = '../input/sorghum-id-fgvc-9/train_images'\n",
    "filename1 = '2017-06-02__18-04-25-964.png'\n",
    "filename2 = '2017-06-09__11-56-23-546.png'\n",
    "filename3 = '2017-06-26__11-57-27-185.png'\n",
    "\n",
    "fig, axes = plt.subplots(nrows=1, ncols=3, figsize=[12, 6], dpi=300)\n",
    "\n",
    "axes[0].imshow(Image.open(os.path.join(dir, filename1)))\n",
    "axes[1].imshow(Image.open(os.path.join(dir, filename2)))\n",
    "axes[2].imshow(Image.open(os.path.join(dir, filename3)))\n",
    "\n",
    "plt.show()"
   ]
  },
  {
   "cell_type": "code",
   "execution_count": null,
   "id": "e19cb40b",
   "metadata": {
    "execution": {
     "iopub.execute_input": "2022-06-07T04:01:59.020217Z",
     "iopub.status.busy": "2022-06-07T04:01:59.019922Z",
     "iopub.status.idle": "2022-06-07T04:02:02.418784Z",
     "shell.execute_reply": "2022-06-07T04:02:02.417319Z",
     "shell.execute_reply.started": "2022-06-07T04:01:59.020186Z"
    },
    "papermill": {
     "duration": null,
     "end_time": null,
     "exception": null,
     "start_time": null,
     "status": "pending"
    },
    "tags": []
   },
   "outputs": [],
   "source": [
    "from PIL import Image\n",
    "\n",
    "dir = '../input/sorghum-id-fgvc-9/train_images'\n",
    "filename1 = '2017-06-28__11-50-22-395.png'\n",
    "filename2 = '2017-06-13__11-55-55-043.png'\n",
    "filename3 = '2017-06-22__13-39-10-652.png'\n",
    "\n",
    "fig, axes = plt.subplots(nrows=1, ncols=3, figsize=[12, 6], dpi=300)\n",
    "\n",
    "axes[0].imshow(Image.open(os.path.join(dir, filename1)))\n",
    "axes[1].imshow(Image.open(os.path.join(dir, filename2)))\n",
    "axes[2].imshow(Image.open(os.path.join(dir, filename3)))\n",
    "\n",
    "plt.show()"
   ]
  },
  {
   "cell_type": "code",
   "execution_count": null,
   "id": "8d3a56a8",
   "metadata": {
    "execution": {
     "iopub.execute_input": "2022-06-07T04:24:52.072934Z",
     "iopub.status.busy": "2022-06-07T04:24:52.072548Z",
     "iopub.status.idle": "2022-06-07T04:24:55.498852Z",
     "shell.execute_reply": "2022-06-07T04:24:55.497818Z",
     "shell.execute_reply.started": "2022-06-07T04:24:52.072898Z"
    },
    "papermill": {
     "duration": null,
     "end_time": null,
     "exception": null,
     "start_time": null,
     "status": "pending"
    },
    "tags": []
   },
   "outputs": [],
   "source": [
    "from PIL import Image\n",
    "\n",
    "dir = '../input/sorghum-id-fgvc-9/train_images'\n",
    "filename1 = '2017-06-18__13-23-50-617.png'\n",
    "filename2 = '2017-06-21__12-09-32-052.png'\n",
    "filename3 = '2017-06-14__13-11-56-857.png'\n",
    "\n",
    "fig, axes = plt.subplots(nrows=1, ncols=3, figsize=[12, 6], dpi=300)\n",
    "\n",
    "axes[0].imshow(Image.open(os.path.join(dir, filename1)))\n",
    "axes[1].imshow(Image.open(os.path.join(dir, filename2)))\n",
    "axes[2].imshow(Image.open(os.path.join(dir, filename3)))\n",
    "\n",
    "plt.show()"
   ]
  },
  {
   "cell_type": "code",
   "execution_count": null,
   "id": "def65c4d",
   "metadata": {
    "execution": {
     "iopub.execute_input": "2022-06-07T04:27:51.426144Z",
     "iopub.status.busy": "2022-06-07T04:27:51.425419Z",
     "iopub.status.idle": "2022-06-07T04:28:01.628511Z",
     "shell.execute_reply": "2022-06-07T04:28:01.627591Z",
     "shell.execute_reply.started": "2022-06-07T04:27:51.426104Z"
    },
    "papermill": {
     "duration": null,
     "end_time": null,
     "exception": null,
     "start_time": null,
     "status": "pending"
    },
    "tags": []
   },
   "outputs": [],
   "source": [
    "from tensorflow.keras.preprocessing.image import load_img,img_to_array\n",
    "\n",
    "image  = load_img(os.path.join(dir, filename1))\n",
    "grayscale = load_img(os.path.join(dir, filename1),color_mode = \"grayscale\")\n",
    "gray_array=  img_to_array(grayscale)\n",
    "image_array = img_to_array(image)\n",
    "\n",
    "plt.imshow(image)\n",
    "fig, (ax1, ax2, ax3, ax4) = plt.subplots(nrows=1,ncols=4, sharey=True, figsize=(24,5))\n",
    "\n",
    "ax1.hist(image_array[:,:,0].ravel(),256,[0,256],color='red')\n",
    "plt.ylim(0,20000)\n",
    "ax2.hist(image_array[:,:,1].ravel(),256,[0,256], color='green')\n",
    "ax3.hist(image_array[:,:,1].ravel(),256,[0,256], color='blue')\n",
    "ax4.hist(gray_array.ravel(),256,[0,256])\n",
    "plt.show()"
   ]
  },
  {
   "cell_type": "code",
   "execution_count": null,
   "id": "c8fb3fd6",
   "metadata": {
    "execution": {
     "iopub.execute_input": "2022-06-07T04:28:25.904947Z",
     "iopub.status.busy": "2022-06-07T04:28:25.904599Z",
     "iopub.status.idle": "2022-06-07T04:28:30.408851Z",
     "shell.execute_reply": "2022-06-07T04:28:30.407983Z",
     "shell.execute_reply.started": "2022-06-07T04:28:25.904911Z"
    },
    "papermill": {
     "duration": null,
     "end_time": null,
     "exception": null,
     "start_time": null,
     "status": "pending"
    },
    "tags": []
   },
   "outputs": [],
   "source": [
    "filename2 = '2017-06-28__10-19-29-505.png'\n",
    "\n",
    "from tensorflow.keras.preprocessing.image import load_img,img_to_array\n",
    "\n",
    "image  = load_img(os.path.join(dir, filename2))\n",
    "grayscale = load_img(os.path.join(dir, filename2),color_mode = \"grayscale\")\n",
    "gray_array=  img_to_array(grayscale)\n",
    "image_array = img_to_array(image)\n",
    "\n",
    "plt.imshow(image)\n",
    "fig, (ax1, ax2, ax3, ax4) = plt.subplots(nrows=1,ncols=4, sharey=True, figsize=(24,5))\n",
    "\n",
    "ax1.hist(image_array[:,:,0].ravel(),256,[0,256],color='red')\n",
    "plt.ylim(0,20000)\n",
    "ax2.hist(image_array[:,:,1].ravel(),256,[0,256], color='green')\n",
    "ax3.hist(image_array[:,:,1].ravel(),256,[0,256], color='blue')\n",
    "ax4.hist(gray_array.ravel(),256,[0,256])\n",
    "plt.show()"
   ]
  },
  {
   "cell_type": "code",
   "execution_count": null,
   "id": "67ce7ab3",
   "metadata": {
    "papermill": {
     "duration": null,
     "end_time": null,
     "exception": null,
     "start_time": null,
     "status": "pending"
    },
    "tags": []
   },
   "outputs": [],
   "source": []
  }
 ],
 "metadata": {
  "kernelspec": {
   "display_name": "Python 3",
   "language": "python",
   "name": "python3"
  },
  "language_info": {
   "codemirror_mode": {
    "name": "ipython",
    "version": 3
   },
   "file_extension": ".py",
   "mimetype": "text/x-python",
   "name": "python",
   "nbconvert_exporter": "python",
   "pygments_lexer": "ipython3",
   "version": "3.7.12"
  },
  "papermill": {
   "default_parameters": {},
   "duration": 85.893137,
   "end_time": "2022-06-11T06:25:40.898961",
   "environment_variables": {},
   "exception": true,
   "input_path": "__notebook__.ipynb",
   "output_path": "__notebook__.ipynb",
   "parameters": {},
   "start_time": "2022-06-11T06:24:15.005824",
   "version": "2.3.3"
  }
 },
 "nbformat": 4,
 "nbformat_minor": 5
}
